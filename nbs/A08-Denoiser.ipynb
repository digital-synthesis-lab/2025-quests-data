{
 "cells": [
  {
   "cell_type": "code",
   "execution_count": 1,
   "id": "316f3dbc",
   "metadata": {},
   "outputs": [],
   "source": [
    "from quests_data import *\n",
    "\n",
    "from ase.io import read\n",
    "from quests.entropy import perfect_entropy, get_bandwidth\n",
    "from quests.descriptor import descriptor_pbc, get_descriptors\n",
    "from quests.tools.plotting import savefig, COLORS"
   ]
  },
  {
   "cell_type": "code",
   "execution_count": 2,
   "id": "dc151964",
   "metadata": {},
   "outputs": [],
   "source": [
    "ROOT = \"../data/A08-Denoiser\"\n",
    "dsets = {\n",
    "    \"fcc\": read(f\"{ROOT}/k0.1-r3.2-fcc340.cna-labeled.extxyz\", index=\":\"),\n",
    "    \"bcc\": read(f\"{ROOT}/k0.1-r3.2-bcc340.cna-labeled.extxyz\", index=\":\"),\n",
    "    \"hcp\": read(f\"{ROOT}/k0.1-r3.2-hcp340.cna-labeled.extxyz\", index=\":\"),\n",
    "    \"liq\": read(f\"{ROOT}/k0.1-r3.2-liq150.cna-labeled.extxyz\", index=\":\"),\n",
    "}"
   ]
  },
  {
   "cell_type": "markdown",
   "id": "f091217d",
   "metadata": {},
   "source": [
    "## Production values"
   ]
  },
  {
   "cell_type": "code",
   "execution_count": 3,
   "id": "d1bbe1d7",
   "metadata": {},
   "outputs": [
    {
     "name": "stderr",
     "output_type": "stream",
     "text": [
      "100%|████████████████████████████████████████████████████████████████████████████████████████████████████████████████████████████| 4/4 [00:01<00:00,  3.21it/s]\n"
     ]
    }
   ],
   "source": [
    "entropies = []\n",
    "\n",
    "for name, dset in tqdm.tqdm(dsets.items()):\n",
    "    for frame, atoms in enumerate(dset):\n",
    "        x = get_descriptors([atoms])\n",
    "\n",
    "        # the bandwidth is chosen as a higher value\n",
    "        # because the copper is at high pressure\n",
    "        H = perfect_entropy(x, h=0.038)\n",
    "        n = x.shape[0]\n",
    "        \n",
    "        entropies.append({\n",
    "            \"name\": name,\n",
    "            \"frame\": frame,\n",
    "            \"n\": n,\n",
    "            \"logn\": np.log(n),\n",
    "            \"H\": H,\n",
    "        })\n",
    "\n",
    "df = pd.DataFrame(entropies)"
   ]
  },
  {
   "cell_type": "code",
   "execution_count": 4,
   "id": "8e78c6c9",
   "metadata": {},
   "outputs": [
    {
     "data": {
      "text/html": [
       "<div>\n",
       "<style scoped>\n",
       "    .dataframe tbody tr th:only-of-type {\n",
       "        vertical-align: middle;\n",
       "    }\n",
       "\n",
       "    .dataframe tbody tr th {\n",
       "        vertical-align: top;\n",
       "    }\n",
       "\n",
       "    .dataframe thead th {\n",
       "        text-align: right;\n",
       "    }\n",
       "</style>\n",
       "<table border=\"1\" class=\"dataframe\">\n",
       "  <thead>\n",
       "    <tr style=\"text-align: right;\">\n",
       "      <th>name</th>\n",
       "      <th>bcc</th>\n",
       "      <th>fcc</th>\n",
       "      <th>hcp</th>\n",
       "      <th>liq</th>\n",
       "    </tr>\n",
       "    <tr>\n",
       "      <th>frame</th>\n",
       "      <th></th>\n",
       "      <th></th>\n",
       "      <th></th>\n",
       "      <th></th>\n",
       "    </tr>\n",
       "  </thead>\n",
       "  <tbody>\n",
       "    <tr>\n",
       "      <th>0</th>\n",
       "      <td>2.921975</td>\n",
       "      <td>2.755661</td>\n",
       "      <td>2.766118</td>\n",
       "      <td>3.426215</td>\n",
       "    </tr>\n",
       "    <tr>\n",
       "      <th>1</th>\n",
       "      <td>1.415319</td>\n",
       "      <td>0.826901</td>\n",
       "      <td>0.733884</td>\n",
       "      <td>2.887592</td>\n",
       "    </tr>\n",
       "    <tr>\n",
       "      <th>2</th>\n",
       "      <td>0.596571</td>\n",
       "      <td>0.191862</td>\n",
       "      <td>0.089315</td>\n",
       "      <td>2.780589</td>\n",
       "    </tr>\n",
       "    <tr>\n",
       "      <th>3</th>\n",
       "      <td>0.178722</td>\n",
       "      <td>0.058833</td>\n",
       "      <td>0.025694</td>\n",
       "      <td>2.782420</td>\n",
       "    </tr>\n",
       "    <tr>\n",
       "      <th>4</th>\n",
       "      <td>0.059553</td>\n",
       "      <td>0.033307</td>\n",
       "      <td>0.013354</td>\n",
       "      <td>2.769811</td>\n",
       "    </tr>\n",
       "    <tr>\n",
       "      <th>5</th>\n",
       "      <td>0.017769</td>\n",
       "      <td>0.022136</td>\n",
       "      <td>0.008512</td>\n",
       "      <td>2.766328</td>\n",
       "    </tr>\n",
       "    <tr>\n",
       "      <th>6</th>\n",
       "      <td>0.005234</td>\n",
       "      <td>0.016232</td>\n",
       "      <td>0.006560</td>\n",
       "      <td>2.752556</td>\n",
       "    </tr>\n",
       "    <tr>\n",
       "      <th>7</th>\n",
       "      <td>0.002623</td>\n",
       "      <td>0.013138</td>\n",
       "      <td>0.005981</td>\n",
       "      <td>2.754901</td>\n",
       "    </tr>\n",
       "    <tr>\n",
       "      <th>8</th>\n",
       "      <td>0.002273</td>\n",
       "      <td>0.011833</td>\n",
       "      <td>0.005923</td>\n",
       "      <td>2.757193</td>\n",
       "    </tr>\n",
       "  </tbody>\n",
       "</table>\n",
       "</div>"
      ],
      "text/plain": [
       "name        bcc       fcc       hcp       liq\n",
       "frame                                        \n",
       "0      2.921975  2.755661  2.766118  3.426215\n",
       "1      1.415319  0.826901  0.733884  2.887592\n",
       "2      0.596571  0.191862  0.089315  2.780589\n",
       "3      0.178722  0.058833  0.025694  2.782420\n",
       "4      0.059553  0.033307  0.013354  2.769811\n",
       "5      0.017769  0.022136  0.008512  2.766328\n",
       "6      0.005234  0.016232  0.006560  2.752556\n",
       "7      0.002623  0.013138  0.005981  2.754901\n",
       "8      0.002273  0.011833  0.005923  2.757193"
      ]
     },
     "execution_count": 4,
     "metadata": {},
     "output_type": "execute_result"
    }
   ],
   "source": [
    "df.pivot(index=\"frame\", values=\"H\", columns=\"name\")"
   ]
  },
  {
   "cell_type": "code",
   "execution_count": 5,
   "id": "36c71d16",
   "metadata": {},
   "outputs": [
    {
     "data": {
      "image/png": "[encoded data removed]",
      "text/plain": [
       "<Figure size 300x400 with 1 Axes>"
      ]
     },
     "metadata": {},
     "output_type": "display_data"
    }
   ],
   "source": [
    "fig, ax = plt.subplots(figsize=(3, 4))\n",
    "\n",
    "for phase, grp in df.groupby(\"name\"):\n",
    "    ax.plot(grp[\"frame\"], grp[\"H\"], label=phase, color=COLORS.get(phase, COLORS[\"other\"]))\n",
    "\n",
    "ax.set_xlabel(\"Denoiser Step\")\n",
    "ax.set_ylabel(\"Entropy (nats)\")\n",
    "ax.set_xticks([0, 2, 4, 6, 8])\n",
    "ax.set_ylim(bottom=0)\n",
    "ax.set_xlim(left=0)\n",
    "ax.legend(frameon=False)\n",
    "\n",
    "# savefig(fig, \"01-x-denoiser.pdf\")\n",
    "plt.show()"
   ]
  }
 ],
 "metadata": {
  "kernelspec": {
   "display_name": "Python 3 (ipykernel)",
   "language": "python",
   "name": "python3"
  },
  "language_info": {
   "codemirror_mode": {
    "name": "ipython",
    "version": 3
   },
   "file_extension": ".py",
   "mimetype": "text/x-python",
   "name": "python",
   "nbconvert_exporter": "python",
   "pygments_lexer": "ipython3",
   "version": "3.9.18"
  }
 },
 "nbformat": 4,
 "nbformat_minor": 5
}
