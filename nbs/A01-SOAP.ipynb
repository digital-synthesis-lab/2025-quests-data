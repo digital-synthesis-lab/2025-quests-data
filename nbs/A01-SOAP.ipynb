{
 "cells": [
  {
   "cell_type": "code",
   "execution_count": 1,
   "id": "0d877bd1",
   "metadata": {},
   "outputs": [],
   "source": [
    "from quests_data import *\n",
    "\n",
    "from ase import Atoms\n",
    "from ase.build import make_supercell\n",
    "from quests.tools.plotting import savefig\n",
    "from quests.tools.example import get_reference_structures\n",
    "from dscribe.descriptors import SOAP"
   ]
  },
  {
   "cell_type": "markdown",
   "id": "af56aba0",
   "metadata": {},
   "source": [
    "## Creating descriptors for different structures"
   ]
  },
  {
   "cell_type": "code",
   "execution_count": 2,
   "id": "f914ec47",
   "metadata": {},
   "outputs": [],
   "source": [
    "fcc, bcc, hcp = get_reference_structures(supercell=2)\n",
    "\n",
    "def describe(struct):\n",
    "    soap = SOAP(species=[\"Cu\"], r_cut=5.0, n_max=8, l_max=6)\n",
    "    return soap.create(struct)\n",
    "\n",
    "descripts = {\n",
    "    \"fcc\": describe(fcc),\n",
    "    \"bcc\": describe(bcc),\n",
    "    \"hcp\": describe(hcp),\n",
    "}\n",
    "\n",
    "colors = {\n",
    "    \"fcc\": cm.tab10(0),\n",
    "    \"bcc\": cm.tab10(1),\n",
    "    \"hcp\": cm.tab10(2),\n",
    "}"
   ]
  },
  {
   "cell_type": "code",
   "execution_count": 3,
   "id": "62812634-39d5-4ef8-9183-2c1771ddaf0e",
   "metadata": {},
   "outputs": [
    {
     "data": {
      "text/plain": [
       "(8, 252)"
      ]
     },
     "execution_count": 3,
     "metadata": {},
     "output_type": "execute_result"
    }
   ],
   "source": [
    "descripts[\"fcc\"].shape"
   ]
  },
  {
   "cell_type": "markdown",
   "id": "1e39e7bd",
   "metadata": {},
   "source": [
    "## Behavior under strain"
   ]
  },
  {
   "cell_type": "code",
   "execution_count": 4,
   "id": "30c06c5f",
   "metadata": {},
   "outputs": [],
   "source": [
    "fracs = np.arange(0.95, 1.05, 0.002).round(2)\n",
    "\n",
    "xs = {}\n",
    "for strain in fracs:\n",
    "    fcc, _, _ = get_reference_structures(strain, supercell=5)\n",
    "    x = describe(fcc)\n",
    "    \n",
    "    xs[strain] = x[0]\n",
    "\n",
    "\n",
    "ref_x = xs[1.0]\n",
    "distances_fcc = pd.Series({\n",
    "    k - 1: np.linalg.norm(x - ref_x)\n",
    "    for k, x in xs.items()\n",
    "})"
   ]
  },
  {
   "cell_type": "code",
   "execution_count": 5,
   "id": "e7ed7d9a",
   "metadata": {},
   "outputs": [
    {
     "data": {
      "image/png": "[encoded data removed]",
      "text/plain": [
       "<Figure size 300x300 with 1 Axes>"
      ]
     },
     "metadata": {},
     "output_type": "display_data"
    }
   ],
   "source": [
    "fig, ax = plt.subplots(1, 1, figsize=(3, 3))\n",
    "\n",
    "ax.plot(distances_fcc.index * 100, distances_fcc.values, \"ko-\", markersize=4)\n",
    "ax.set_ylabel(\"SOAP L$_2$ Distance\")\n",
    "ax.set_xlabel(\"Strain (%)\")\n",
    "ax.set_ylim(bottom=0)\n",
    "\n",
    "fig.tight_layout()\n",
    "# savefig(fig, \"01-x-strain-soap.pdf\")\n",
    "plt.show()"
   ]
  }
 ],
 "metadata": {
  "kernelspec": {
   "display_name": "Python 3 (ipykernel)",
   "language": "python",
   "name": "python3"
  },
  "language_info": {
   "codemirror_mode": {
    "name": "ipython",
    "version": 3
   },
   "file_extension": ".py",
   "mimetype": "text/x-python",
   "name": "python",
   "nbconvert_exporter": "python",
   "pygments_lexer": "ipython3",
   "version": "3.9.18"
  }
 },
 "nbformat": 4,
 "nbformat_minor": 5
}
