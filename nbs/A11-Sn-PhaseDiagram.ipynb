{
 "cells": [
  {
   "cell_type": "code",
   "execution_count": 1,
   "id": "6f57822a",
   "metadata": {},
   "outputs": [],
   "source": [
    "from quests_data import *\n",
    "from einstein import einstein_crystal\n",
    "\n",
    "import itertools\n",
    "from scipy import integrate\n",
    "from scipy.interpolate import interp1d\n",
    "from scipy.spatial.distance import cdist\n",
    "\n",
    "from quests.tools.plotting import savefig\n",
    "from quests.tools.polyfit import PolynomialRegressor2D, find_zero_points\n",
    "\n",
    "ROOT_DIR = \"../data/A11-Sn\""
   ]
  },
  {
   "cell_type": "code",
   "execution_count": 2,
   "id": "523c19ec",
   "metadata": {},
   "outputs": [],
   "source": [
    "alpha = pd.read_csv(f\"{ROOT_DIR}/ti/alpha.csv\", index_col=0)\n",
    "beta = pd.read_csv(f\"{ROOT_DIR}/ti/beta.csv\", index_col=0)\n",
    "\n",
    "spring_k = 2.0\n",
    "temperature = 200\n",
    "mass = 118.71\n",
    "GPa = 1 / 160.21766208\n",
    "kB = 1 / 8.617333e-5\n",
    "kJ_mol = 0.01036410"
   ]
  },
  {
   "cell_type": "code",
   "execution_count": 3,
   "id": "09b43807",
   "metadata": {},
   "outputs": [],
   "source": [
    "VOLS = [98, 100, 102]\n",
    "TEMPS = np.arange(200, 351, 25)"
   ]
  },
  {
   "cell_type": "code",
   "execution_count": 4,
   "id": "5847ed0b",
   "metadata": {},
   "outputs": [],
   "source": [
    "def integr(x, y):\n",
    "    fn = interp1d(x, y, kind=\"cubic\")\n",
    "    integ, err = integrate.quad(fn, 0.00, 1.00, limit=200)\n",
    "    return integ\n",
    "\n",
    "def integr2(x, y):\n",
    "    x = np.sqrt(x)\n",
    "    fn = interp1d(x, 2 * x * y, kind=\"linear\")\n",
    "    integ, err = integrate.quad(fn, 0.00, 1.00, limit=200)\n",
    "    return integ"
   ]
  },
  {
   "cell_type": "code",
   "execution_count": 5,
   "id": "7a388fa5",
   "metadata": {},
   "outputs": [
    {
     "name": "stderr",
     "output_type": "stream",
     "text": [
      "/var/folders/pk/bysbkx9j3993c_vqdsykcn680000gn/T/ipykernel_46810/1650940517.py:9: IntegrationWarning: The occurrence of roundoff error is detected, which prevents \n",
      "  the requested tolerance from being achieved.  The error may be \n",
      "  underestimated.\n",
      "  integ, err = integrate.quad(fn, 0.00, 1.00, limit=200)\n"
     ]
    }
   ],
   "source": [
    "results = []\n",
    "for (v, t) in itertools.product(VOLS, TEMPS):\n",
    "    _a = alpha.loc[(alpha.folder == v) & (alpha.temperature == t)] \n",
    "    _b = beta.loc[(beta.folder == v) & (beta.temperature == t)] \n",
    "    f_ein, u_ein, s_ein = einstein_crystal(spring_k=spring_k, temperature=t, mass=mass)\n",
    "    \n",
    "    f_alpha = integr2(_a[\"lambda\"], -_a[\"energy\"] + u_ein)\n",
    "    f_beta = integr2(_b[\"lambda\"], -_b[\"energy\"] + u_ein)\n",
    "    \n",
    "    results.append({\n",
    "        \"folder\": v,\n",
    "        \"T\": t,\n",
    "        \"V_alpha\": _a[\"volume\"].iloc[0],\n",
    "        \"V_beta\": _b[\"volume\"].iloc[0],\n",
    "        \"U_alpha\": _a[\"energy\"].iloc[0],\n",
    "        \"U_beta\": _b[\"energy\"].iloc[0],\n",
    "        \"F_ein\": f_ein,\n",
    "        \"S_ein\": kB * s_ein,\n",
    "        \"U_ein\": u_ein,\n",
    "        \"F_alpha\": -f_alpha + f_ein,\n",
    "        \"F_beta\": -f_beta + f_ein,\n",
    "        \"P_alpha\": _a[\"pressure\"].iloc[0],\n",
    "        \"P_beta\": _b[\"pressure\"].iloc[0],\n",
    "    })\n",
    "    \n",
    "df = pd.DataFrame(results)"
   ]
  },
  {
   "cell_type": "code",
   "execution_count": 6,
   "id": "a02bdbbf",
   "metadata": {},
   "outputs": [],
   "source": [
    "df[\"G_alpha\"] = df[\"F_alpha\"] + df[\"P_alpha\"] * df[\"V_alpha\"] * GPa\n",
    "df[\"G_beta\"] = df[\"F_beta\"] + df[\"P_beta\"] * df[\"V_beta\"] * GPa\n",
    "df[\"dG\"] = df[\"G_alpha\"] - df[\"G_beta\"]"
   ]
  },
  {
   "cell_type": "markdown",
   "id": "436356bb",
   "metadata": {},
   "source": [
    "## Interpolation"
   ]
  },
  {
   "cell_type": "code",
   "execution_count": 7,
   "id": "8b9d9892",
   "metadata": {},
   "outputs": [],
   "source": [
    "deg = 2\n",
    "kwargs = {\"alpha\": 0.0001, \"max_iter\": 10000000}\n",
    "\n",
    "p_alpha_fn = PolynomialRegressor2D(deg, df[[\"V_alpha\", \"T\"]].values, df[\"P_alpha\"].values, **kwargs)\n",
    "p_beta_fn = PolynomialRegressor2D(deg, df[[\"V_beta\", \"T\"]].values, df[\"P_beta\"].values, **kwargs)\n",
    "v_alpha_fn = PolynomialRegressor2D(deg, df[[\"P_alpha\", \"T\"]].values, df[\"V_alpha\"].values, **kwargs)\n",
    "v_beta_fn = PolynomialRegressor2D(deg, df[[\"P_beta\", \"T\"]].values, df[\"V_beta\"].values, **kwargs)\n",
    "f_alpha_fn = PolynomialRegressor2D(deg, df[[\"V_alpha\", \"T\"]].values, df[\"F_alpha\"].values, **kwargs)\n",
    "f_beta_fn = PolynomialRegressor2D(deg, df[[\"V_beta\", \"T\"]].values, df[\"F_beta\"].values, **kwargs)"
   ]
  },
  {
   "cell_type": "code",
   "execution_count": 8,
   "id": "acfab5f5",
   "metadata": {},
   "outputs": [],
   "source": [
    "step_t = 0.1\n",
    "step_p = 0.01\n",
    "\n",
    "ts = np.arange(220, 340, step_t)\n",
    "ps = np.arange(0, 1.01, step_p)\n",
    "\n",
    "gts, gps = np.meshgrid(ts, ps)\n",
    "nts = gts.ravel()\n",
    "nps = gps.ravel()"
   ]
  },
  {
   "cell_type": "code",
   "execution_count": 9,
   "id": "6c63ecaa",
   "metadata": {},
   "outputs": [],
   "source": [
    "npts = np.stack([nps, nts]).T\n",
    "\n",
    "vs_alpha = v_alpha_fn(npts)\n",
    "vs_beta = v_beta_fn(npts)\n",
    "\n",
    "fs_alpha = f_alpha_fn(np.stack([vs_alpha, nts]).T)\n",
    "fs_beta = f_beta_fn(np.stack([vs_beta, nts]).T)\n",
    "\n",
    "gs_alpha = fs_alpha + vs_alpha * nps * GPa\n",
    "gs_beta = fs_beta + vs_beta * nps * GPa\n",
    "\n",
    "dgs = gs_alpha - gs_beta\n",
    "\n",
    "gs = dgs.reshape(gts.shape)"
   ]
  },
  {
   "cell_type": "code",
   "execution_count": 10,
   "id": "025312ca",
   "metadata": {},
   "outputs": [],
   "source": [
    "ti_p, ti_t = find_zero_points(gps, gts, gs)"
   ]
  },
  {
   "cell_type": "code",
   "execution_count": 11,
   "id": "9f80a914",
   "metadata": {},
   "outputs": [
    {
     "data": {
      "image/png": "[encoded data removed]",
      "text/plain": [
       "<Figure size 250x250 with 1 Axes>"
      ]
     },
     "metadata": {},
     "output_type": "display_data"
    }
   ],
   "source": [
    "fig, ax = plt.subplots(figsize=(2.5, 2.5))\n",
    "\n",
    "norm = plt.Normalize(-1e-5, 1e-5)\n",
    "cf = ax.contourf(gps, gts, gs, cmap=\"coolwarm\", norm=norm)\n",
    "# cbar = fig.colorbar(cf)\n",
    "\n",
    "ax.set_xlabel(\"Pressure (GPa)\")\n",
    "ax.set_ylabel(\"Temperature (K)\")\n",
    "ax.set_xlim(0.4, 0.8)\n",
    "\n",
    "# savefig(fig, \"02-Sn-PT.pdf\")\n",
    "plt.show()"
   ]
  },
  {
   "cell_type": "markdown",
   "id": "c4c7086e",
   "metadata": {},
   "source": [
    "## Computing the entropy along an isobaric\n",
    "\n",
    "### First, we use the phase diagram to compute the entropy difference along an isobaric at 0.6 GPa"
   ]
  },
  {
   "cell_type": "code",
   "execution_count": 12,
   "id": "edfc0adc",
   "metadata": {},
   "outputs": [],
   "source": [
    "ts = np.arange(220, 340, 1)\n",
    "pressure = 0.6  # GPa\n",
    "isobaric = np.concatenate([\n",
    "    pressure * np.ones((len(ts), 1)),\n",
    "    ts.reshape(-1, 1),\n",
    "], axis=1)"
   ]
  },
  {
   "cell_type": "code",
   "execution_count": 13,
   "id": "ea53241a",
   "metadata": {},
   "outputs": [],
   "source": [
    "_va = v_alpha_fn(isobaric)\n",
    "_vb = v_beta_fn(isobaric)\n",
    "\n",
    "_fa = f_alpha_fn(np.stack([_va, ts.ravel()], axis=1))\n",
    "_fb = f_beta_fn(np.stack([_vb, ts.ravel()], axis=1))\n",
    "\n",
    "_ga = _fa + pressure * GPa * _va\n",
    "_gb = _fb + pressure * GPa * _vb"
   ]
  },
  {
   "cell_type": "code",
   "execution_count": 14,
   "id": "9c3cb208",
   "metadata": {},
   "outputs": [
    {
     "data": {
      "image/png": "[encoded data removed]",
      "text/plain": [
       "<Figure size 300x200 with 1 Axes>"
      ]
     },
     "metadata": {},
     "output_type": "display_data"
    }
   ],
   "source": [
    "fig, ax = plt.subplots(figsize=(3, 2))\n",
    "\n",
    "ax.plot(ts.ravel(), _ga, \"r-\", label=\"α\")\n",
    "ax.plot(ts.ravel(), _gb, \"b-\", label=\"β\")\n",
    "\n",
    "ax.legend(frameon=False)\n",
    "\n",
    "ax.set_xlabel(\"T (K)\")\n",
    "ax.set_ylabel(\"G (kJ/mol)\")\n",
    "plt.show()"
   ]
  },
  {
   "cell_type": "code",
   "execution_count": 15,
   "id": "993c0926",
   "metadata": {},
   "outputs": [],
   "source": [
    "_sa = -np.diff(_ga) / np.diff(ts) * kB\n",
    "_sb = -np.diff(_gb) / np.diff(ts) * kB"
   ]
  },
  {
   "cell_type": "code",
   "execution_count": 16,
   "id": "ec66b5c3",
   "metadata": {},
   "outputs": [],
   "source": [
    "dS = pd.DataFrame({\n",
    "    \"a\": _sa,\n",
    "    \"b\": _sb,\n",
    "    \"dS\": _sb - _sa\n",
    "}, index=ts.ravel()[1:])"
   ]
  },
  {
   "cell_type": "markdown",
   "id": "fc5c71a3",
   "metadata": {},
   "source": [
    "### Now, we load the entropies calculated with QUESTS"
   ]
  },
  {
   "cell_type": "code",
   "execution_count": 17,
   "id": "3dd16274",
   "metadata": {},
   "outputs": [],
   "source": [
    "ha = pd.read_csv(f\"{ROOT_DIR}/entropy/alpha.csv\", index_col=0).set_index([\"temperature\", \"press\"])\n",
    "hb = pd.read_csv(f\"{ROOT_DIR}/entropy/beta.csv\", index_col=0).set_index([\"temperature\", \"press\"])\n",
    "dH = hb[\"entropy\"] - ha[\"entropy\"]\n",
    "dU = hb[\"energy\"] - ha[\"energy\"]\n",
    "dV = hb[\"volume\"] - ha[\"volume\"]\n",
    "tp = np.array(ha.index.tolist())"
   ]
  },
  {
   "cell_type": "code",
   "execution_count": 18,
   "id": "a7ab0bc5",
   "metadata": {},
   "outputs": [],
   "source": [
    "deg = 2\n",
    "kwargs = {\"alpha\": 0.0001, \"max_iter\": 1000000}\n",
    "\n",
    "v_alpha_fn = PolynomialRegressor2D(deg, tp, ha[\"volume\"].values, **kwargs)\n",
    "v_beta_fn = PolynomialRegressor2D(deg, tp, hb[\"volume\"].values, **kwargs)\n",
    "u_alpha_fn = PolynomialRegressor2D(deg, tp, ha[\"energy\"].values, **kwargs)\n",
    "u_beta_fn = PolynomialRegressor2D(deg, tp, hb[\"energy\"].values, **kwargs)\n",
    "h_alpha_fn = PolynomialRegressor2D(deg, tp, ha[\"entropy\"].values, **kwargs)\n",
    "h_beta_fn = PolynomialRegressor2D(deg, tp, hb[\"entropy\"].values, **kwargs)"
   ]
  },
  {
   "cell_type": "code",
   "execution_count": 19,
   "id": "d2bf7c4c",
   "metadata": {},
   "outputs": [],
   "source": [
    "ntps = np.stack([nts, nps], axis=1)"
   ]
  },
  {
   "cell_type": "code",
   "execution_count": 20,
   "id": "2ab8db6c",
   "metadata": {},
   "outputs": [],
   "source": [
    "dv = v_beta_fn(ntps) - v_alpha_fn(ntps)\n",
    "du = u_beta_fn(ntps) - u_alpha_fn(ntps)\n",
    "dh = h_beta_fn(ntps) - h_alpha_fn(ntps)"
   ]
  },
  {
   "cell_type": "code",
   "execution_count": 21,
   "id": "e45815f8",
   "metadata": {},
   "outputs": [],
   "source": [
    "dG = du - (1 / kB) * dh * nts + nps * dv * GPa\n",
    "dGgrid = dG.reshape(gts.shape)"
   ]
  },
  {
   "cell_type": "code",
   "execution_count": 22,
   "id": "28141cab",
   "metadata": {},
   "outputs": [],
   "source": [
    "ours_p, ours_t = find_zero_points(gps, gts, dGgrid, tol=1e-5)"
   ]
  },
  {
   "cell_type": "markdown",
   "id": "394e6823",
   "metadata": {},
   "source": [
    "### Plotting"
   ]
  },
  {
   "cell_type": "code",
   "execution_count": 23,
   "id": "aa1542f3",
   "metadata": {},
   "outputs": [
    {
     "data": {
      "image/png": "[encoded data removed]",
      "text/plain": [
       "<Figure size 250x250 with 1 Axes>"
      ]
     },
     "metadata": {},
     "output_type": "display_data"
    }
   ],
   "source": [
    "fig, ax = plt.subplots(figsize=(2.5, 2.5))\n",
    "\n",
    "ax.plot(ti_p, ti_t, label=\"TI\")\n",
    "ax.plot(ours_p, ours_t, label=\"ours\")\n",
    "# ax.plot(exp[\"P\"], exp[\"T\"], label=\"exp\")\n",
    "\n",
    "ax.set_xlabel(\"Pressure (GPa)\")\n",
    "ax.set_ylabel(\"Temperature (K)\")\n",
    "ax.set_xlim(0.4, 0.8)\n",
    "ax.set_ylim(220, 340)\n",
    "\n",
    "ax.legend(frameon=False)\n",
    "# savefig(fig, \"02-Sn-PT.pdf\")\n",
    "plt.show()"
   ]
  },
  {
   "cell_type": "markdown",
   "id": "df297134",
   "metadata": {},
   "source": [
    "### Comparing with ground truth"
   ]
  },
  {
   "cell_type": "code",
   "execution_count": 24,
   "id": "12c69acc",
   "metadata": {},
   "outputs": [],
   "source": [
    "mask = gps == 0.6\n",
    "_t, _dg = gts[mask], dGgrid[mask]"
   ]
  },
  {
   "cell_type": "code",
   "execution_count": 25,
   "id": "14d1cd1b",
   "metadata": {},
   "outputs": [
    {
     "data": {
      "image/png": "[encoded data removed]",
      "text/plain": [
       "<Figure size 250x250 with 1 Axes>"
      ]
     },
     "metadata": {},
     "output_type": "display_data"
    }
   ],
   "source": [
    "fig, ax = plt.subplots(figsize=(2.5, 2.5))\n",
    "\n",
    "xlim = [220, 340]\n",
    "\n",
    "ax.plot(ts.ravel(), (_gb - _ga) / kJ_mol, \"r-\", label=\"TI\")\n",
    "ax.plot(_t, _dg / kJ_mol, \"b-\", label=\"ours\")\n",
    "ax.plot(xlim, [0, 0], \"k--\")\n",
    "\n",
    "ax.legend(frameon=False)\n",
    "\n",
    "ax.set_xlabel(\"T (K)\")\n",
    "ax.set_ylabel(\"Gβ - Gα (eV/atom)\")\n",
    "\n",
    "ax.set_xticks([220, 270, 320])\n",
    "ax.set_yticks([-1, -.5, 0, 0.5])\n",
    "ax.set_xlim(*xlim)\n",
    "\n",
    "# savefig(fig, \"02-Sn-dG.pdf\")\n",
    "plt.show()"
   ]
  }
 ],
 "metadata": {
  "kernelspec": {
   "display_name": "Python 3 (ipykernel)",
   "language": "python",
   "name": "python3"
  },
  "language_info": {
   "codemirror_mode": {
    "name": "ipython",
    "version": 3
   },
   "file_extension": ".py",
   "mimetype": "text/x-python",
   "name": "python",
   "nbconvert_exporter": "python",
   "pygments_lexer": "ipython3",
   "version": "3.9.18"
  }
 },
 "nbformat": 4,
 "nbformat_minor": 5
}
