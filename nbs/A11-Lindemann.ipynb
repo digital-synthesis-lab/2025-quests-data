{
 "cells": [
  {
   "cell_type": "code",
   "execution_count": 1,
   "id": "0d877bd1",
   "metadata": {},
   "outputs": [],
   "source": [
    "from quests_data import *\n",
    "\n",
    "from ase import Atoms\n",
    "from ase.build import make_supercell\n",
    "from quests.descriptor import get_descriptors, descriptor_pbc\n",
    "from quests.entropy import perfect_entropy, get_bandwidth\n",
    "from quests.tools.example import get_reference_structures\n",
    "from quests.tools.plotting import savefig\n",
    "\n",
    "CUTOFF = 5\n",
    "K = 32"
   ]
  },
  {
   "cell_type": "markdown",
   "id": "af56aba0",
   "metadata": {},
   "source": [
    "## Comparing descriptors of different structures"
   ]
  },
  {
   "cell_type": "code",
   "execution_count": 2,
   "id": "f914ec47",
   "metadata": {
    "scrolled": true
   },
   "outputs": [],
   "source": [
    "colors = {\n",
    "    \"fcc\": cm.tab10(0),\n",
    "    \"bcc\": cm.tab10(1),\n",
    "    \"hcp\": cm.tab10(2),\n",
    "}"
   ]
  },
  {
   "cell_type": "code",
   "execution_count": 3,
   "id": "97d0ac96",
   "metadata": {},
   "outputs": [],
   "source": [
    "import math\n",
    "\n",
    "def polar2cart(r, theta, phi):\n",
    "    return [\n",
    "         r * math.sin(theta) * math.cos(phi),\n",
    "         r * math.sin(theta) * math.sin(phi),\n",
    "         r * math.cos(theta)\n",
    "    ]"
   ]
  },
  {
   "cell_type": "markdown",
   "id": "0f796288",
   "metadata": {},
   "source": [
    "## Behavior under all-atoms displacements"
   ]
  },
  {
   "cell_type": "code",
   "execution_count": 4,
   "id": "2e9d20e9",
   "metadata": {},
   "outputs": [],
   "source": [
    "ref, _, _ = get_reference_structures(frac=1.0, supercell=2)"
   ]
  },
  {
   "cell_type": "code",
   "execution_count": 5,
   "id": "d9622bc2",
   "metadata": {},
   "outputs": [
    {
     "name": "stderr",
     "output_type": "stream",
     "text": [
      "100%|██████████████████████████████████████████████████████████████████████████████████████████████████████████████████████████| 10/10 [00:13<00:00,  1.31s/it]\n",
      "100%|██████████████████████████████████████████████████████████████████████████████████████████████████████████████████████████| 10/10 [00:12<00:00,  1.29s/it]\n",
      "100%|██████████████████████████████████████████████████████████████████████████████████████████████████████████████████████████| 10/10 [00:35<00:00,  3.58s/it]\n"
     ]
    }
   ],
   "source": [
    "fcc, bcc, hcp = get_reference_structures()\n",
    "\n",
    "entropies = []\n",
    "for name, struct in zip([\"fcc\", \"bcc\", \"hcp\"], [fcc, bcc, hcp]):\n",
    "    vol = struct.get_volume() / len(struct)\n",
    "    bw = 0.057\n",
    "    st = make_supercell(struct, 25 * np.eye(3))\n",
    "    rng = np.random.default_rng(1467)\n",
    "\n",
    "    MAX_NOISE = 0.6\n",
    "\n",
    "    for sigma in tqdm.tqdm(np.linspace(0, MAX_NOISE, 10)):\n",
    "        spherical = rng.uniform(size=(len(st), 3)) * np.array([[sigma, np.pi, 2 * np.pi]])\n",
    "        noise = np.array([polar2cart(r, theta, phi) for r, theta, phi in spherical])\n",
    "\n",
    "        atoms = st.copy()\n",
    "        atoms.translate(sigma * noise)\n",
    "\n",
    "#         x1, x2 = descriptor_pbc(atoms.positions, np.array(atoms.cell))\n",
    "        x = get_descriptors([atoms], k=K, cutoff=CUTOFF)\n",
    "        H = perfect_entropy(x, h=bw)\n",
    "\n",
    "        msd = np.sqrt(np.mean(spherical[:, 0] ** 2))\n",
    "\n",
    "        entropies.append({\n",
    "            \"name\": name,\n",
    "            \"sigma\": sigma,\n",
    "            \"entropy\": H,\n",
    "            \"msd\": msd,\n",
    "            \"bw\": bw,\n",
    "        })\n",
    "\n",
    "entropies = pd.DataFrame(entropies)"
   ]
  },
  {
   "cell_type": "markdown",
   "id": "b88d1a8d",
   "metadata": {},
   "source": [
    "### Distance"
   ]
  },
  {
   "cell_type": "code",
   "execution_count": 6,
   "id": "05888780",
   "metadata": {},
   "outputs": [],
   "source": [
    "ref_fcc, ref_bcc, ref_hcp = get_reference_structures(frac=1.0, supercell=2)"
   ]
  },
  {
   "cell_type": "code",
   "execution_count": 7,
   "id": "f1838d09",
   "metadata": {},
   "outputs": [],
   "source": [
    "distances = pd.Series({\n",
    "    \"fcc\": np.min(ref_fcc.get_all_distances()[0, 1:]),\n",
    "    \"bcc\": np.min(ref_bcc.get_all_distances()[0, 1:]),\n",
    "    \"hcp\": np.min(ref_hcp.get_all_distances()[0, 1:]),\n",
    "})"
   ]
  },
  {
   "cell_type": "code",
   "execution_count": 8,
   "id": "04aeed64",
   "metadata": {},
   "outputs": [],
   "source": [
    "entropies[\"interatomic_dist\"] = distances.reindex(entropies[\"name\"]).values\n",
    "entropies[\"fracs\"] = entropies[\"msd\"] / entropies[\"interatomic_dist\"]"
   ]
  },
  {
   "cell_type": "code",
   "execution_count": 9,
   "id": "90d9c9d0",
   "metadata": {},
   "outputs": [
    {
     "data": {
      "image/png": "[encoded data removed]",
      "text/plain": [
       "<Figure size 400x300 with 1 Axes>"
      ]
     },
     "metadata": {},
     "output_type": "display_data"
    }
   ],
   "source": [
    "fig, ax = plt.subplots(figsize=(4, 3))\n",
    "\n",
    "for name, grp in entropies.groupby(\"name\"):\n",
    "    ax.plot(grp[\"fracs\"] * 100, grp[\"entropy\"], \"o-\", markersize=4, label=name)\n",
    "\n",
    "# ax.plot([0, grp[\"fracs\"].max()], [1.3, 1.3], \"--\", label=\"liq\")\n",
    "\n",
    "ax.fill_between([0, 14.5], 0.5, 0.2, alpha=0.2)\n",
    "\n",
    "ax.set_ylabel(\"Entropy (k$_B$)\")\n",
    "ax.set_xlabel(\"RMSD / interatomic distance (%)\")\n",
    "ax.set_ylim(bottom=0)\n",
    "ax.set_xlim(0, 14.5)\n",
    "ax.legend(frameon=False, ncol=1)\n",
    "\n",
    "# savefig(fig, \"01-lindemann.pdf\")\n",
    "plt.show()"
   ]
  }
 ],
 "metadata": {
  "kernelspec": {
   "display_name": "Python 3 (ipykernel)",
   "language": "python",
   "name": "python3"
  },
  "language_info": {
   "codemirror_mode": {
    "name": "ipython",
    "version": 3
   },
   "file_extension": ".py",
   "mimetype": "text/x-python",
   "name": "python",
   "nbconvert_exporter": "python",
   "pygments_lexer": "ipython3",
   "version": "3.9.18"
  }
 },
 "nbformat": 4,
 "nbformat_minor": 5
}
