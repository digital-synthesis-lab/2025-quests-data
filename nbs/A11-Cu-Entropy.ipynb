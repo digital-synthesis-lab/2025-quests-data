{
 "cells": [
  {
   "cell_type": "code",
   "execution_count": 1,
   "id": "5a81c6ed",
   "metadata": {},
   "outputs": [],
   "source": [
    "from quests_data import *\n",
    "from einstein import einstein_crystal\n",
    "\n",
    "import itertools\n",
    "from scipy import integrate\n",
    "from scipy.interpolate import interp1d\n",
    "from scipy.spatial.distance import cdist\n",
    "from quests.tools.plotting import savefig\n",
    "from quests.tools.polyfit import PolynomialRegressor2D\n",
    "\n",
    "ROOT_DIR = \"../data/A11-Cu\""
   ]
  },
  {
   "cell_type": "code",
   "execution_count": 2,
   "id": "a74942f5",
   "metadata": {},
   "outputs": [],
   "source": [
    "fcc = pd.read_csv(f\"{ROOT_DIR}/ti/fcc.csv\", index_col=0)\n",
    "bcc = pd.read_csv(f\"{ROOT_DIR}/ti/bcc.csv\", index_col=0)\n",
    "\n",
    "spring_k = 34.148\n",
    "temperature = 3000\n",
    "mass = 63.546\n",
    "GPa = 1 / 160.21766208\n",
    "kB = 1 / 8.617333e-5"
   ]
  },
  {
   "cell_type": "code",
   "execution_count": 3,
   "id": "f12b89fa",
   "metadata": {},
   "outputs": [],
   "source": [
    "VOLS = [65, 70, 75, 80]\n",
    "TEMPS = np.arange(3000, 5001, 250)"
   ]
  },
  {
   "cell_type": "code",
   "execution_count": 4,
   "id": "7e6e1780",
   "metadata": {},
   "outputs": [],
   "source": [
    "def integr2(x, y):\n",
    "    x = np.sqrt(x)\n",
    "    fn = interp1d(x, 2 * x * y, kind=\"linear\")\n",
    "    integ, err = integrate.quad(fn, 0.00, 1.00, limit=200)\n",
    "    return integ"
   ]
  },
  {
   "cell_type": "code",
   "execution_count": 5,
   "id": "8d2dd14d",
   "metadata": {},
   "outputs": [
    {
     "name": "stderr",
     "output_type": "stream",
     "text": [
      "/var/folders/pk/bysbkx9j3993c_vqdsykcn680000gn/T/ipykernel_45440/1792693385.py:4: IntegrationWarning: The occurrence of roundoff error is detected, which prevents \n",
      "  the requested tolerance from being achieved.  The error may be \n",
      "  underestimated.\n",
      "  integ, err = integrate.quad(fn, 0.00, 1.00, limit=200)\n"
     ]
    }
   ],
   "source": [
    "results = []\n",
    "for (v, t) in itertools.product(VOLS, TEMPS):\n",
    "    _f = fcc.loc[(fcc.folder == v) & (fcc.temperature == t)] \n",
    "    _b = bcc.loc[(bcc.folder == v) & (bcc.temperature == t)] \n",
    "    f_ein, u_ein, s_ein = einstein_crystal(spring_k=spring_k, temperature=t, mass=mass)\n",
    "    \n",
    "    f_fcc = integr2(_f[\"lambda\"], -_f[\"energy\"] + u_ein)\n",
    "    f_bcc = integr2(_b[\"lambda\"], -_b[\"energy\"] + u_ein)\n",
    "    \n",
    "    results.append({\n",
    "        \"T\": t,\n",
    "        \"V\": v / 10,\n",
    "        \"U_fcc\": _f[\"energy\"].iloc[0],\n",
    "        \"U_bcc\": _b[\"energy\"].iloc[0],\n",
    "        \"F_ein\": f_ein,\n",
    "        \"S_ein\": kB * s_ein,\n",
    "        \"U_ein\": u_ein,\n",
    "        \"F_fcc\": -f_fcc + f_ein,\n",
    "        \"F_bcc\": -f_bcc + f_ein,\n",
    "        \"P_fcc\": _f[\"pressure\"].iloc[0],\n",
    "        \"P_bcc\": _b[\"pressure\"].iloc[0],\n",
    "    })\n",
    "    \n",
    "df = pd.DataFrame(results)"
   ]
  },
  {
   "cell_type": "code",
   "execution_count": 6,
   "id": "cac72eed",
   "metadata": {
    "scrolled": true
   },
   "outputs": [],
   "source": [
    "df[\"S_fcc\"] = -df[\"F_fcc\"].diff().values.reshape(-1, 1) / df[\"T\"].diff().values.reshape(-1, 1) * kB\n",
    "df[\"S_bcc\"] = -df[\"F_bcc\"].diff().values.reshape(-1, 1) / df[\"T\"].diff().values.reshape(-1, 1) * kB\n",
    "df[\"dS\"] = df[\"S_bcc\"] - df[\"S_fcc\"]"
   ]
  },
  {
   "cell_type": "markdown",
   "id": "4b638f98",
   "metadata": {},
   "source": [
    "## Interpolating the free energy"
   ]
  },
  {
   "cell_type": "code",
   "execution_count": 7,
   "id": "409fa2da",
   "metadata": {},
   "outputs": [
    {
     "name": "stderr",
     "output_type": "stream",
     "text": [
      "/opt/homebrew/Caskroom/miniconda/base/envs/quests/lib/python3.9/site-packages/sklearn/linear_model/_coordinate_descent.py:631: ConvergenceWarning: Objective did not converge. You might want to increase the number of iterations, check the scale of the features or consider increasing regularisation. Duality gap: 4.416e-04, tolerance: 4.410e-04\n",
      "  model = cd_fast.enet_coordinate_descent(\n",
      "/opt/homebrew/Caskroom/miniconda/base/envs/quests/lib/python3.9/site-packages/sklearn/linear_model/_coordinate_descent.py:631: ConvergenceWarning: Objective did not converge. You might want to increase the number of iterations, check the scale of the features or consider increasing regularisation. Duality gap: 5.295e-04, tolerance: 4.471e-04\n",
      "  model = cd_fast.enet_coordinate_descent(\n"
     ]
    }
   ],
   "source": [
    "degree = 3\n",
    "sdf = []\n",
    "\n",
    "_t = np.arange(2999, 5001, 1)\n",
    "\n",
    "for v, grp in df.groupby(\"V\"):\n",
    "    fn_a = PolynomialRegressor2D(degree, grp[[\"T\"]].values, grp[\"F_fcc\"].values)\n",
    "    fn_b = PolynomialRegressor2D(degree, grp[[\"T\"]].values, grp[\"F_bcc\"].values)\n",
    "    \n",
    "    _fa = fn_a(_t.reshape(-1, 1))\n",
    "    _fb = fn_b(_t.reshape(-1, 1))\n",
    "    \n",
    "    _sa = - np.diff(_fa) / np.diff(_t) * kB\n",
    "    _sb = - np.diff(_fb) / np.diff(_t) * kB\n",
    "    \n",
    "    for i, temp in enumerate(_t[1:]):\n",
    "        sdf.append({\n",
    "            \"T\": temp,\n",
    "            \"V\": v,\n",
    "            \"S_fcc\": _sa[i],\n",
    "            \"S_bcc\": _sb[i],\n",
    "            \"dS\": _sa[i] - _sb[i],\n",
    "        })\n",
    "        \n",
    "sdf = pd.DataFrame(sdf)"
   ]
  },
  {
   "cell_type": "markdown",
   "id": "1c2ca37c",
   "metadata": {},
   "source": [
    "## Comparing BCC and FCC at NVT"
   ]
  },
  {
   "cell_type": "code",
   "execution_count": 8,
   "id": "5069adb8",
   "metadata": {},
   "outputs": [],
   "source": [
    "sf = pd.read_csv(f\"{ROOT_DIR}/entropy-nvt/fcc.csv\", index_col=0).pivot(index=\"temperature\", columns=\"folder\", values=\"entropy\")\n",
    "sb = pd.read_csv(f\"{ROOT_DIR}/entropy-nvt/bcc.csv\", index_col=0).pivot(index=\"temperature\", columns=\"folder\", values=\"entropy\")"
   ]
  },
  {
   "cell_type": "code",
   "execution_count": 9,
   "id": "ad45b2ed",
   "metadata": {},
   "outputs": [],
   "source": [
    "dS = sb - sf\n",
    "dS.columns = [v / 10 for v in dS.columns]"
   ]
  },
  {
   "cell_type": "code",
   "execution_count": 10,
   "id": "dd664dee",
   "metadata": {},
   "outputs": [],
   "source": [
    "TEMPS = np.arange(3250, 5001, 250)\n",
    "\n",
    "true = sdf.loc[sdf[\"T\"].isin(TEMPS)].pivot(index=\"T\", values=\"dS\", columns=\"V\")\n",
    "true2 = df.loc[df[\"T\"].isin(TEMPS)].pivot(index=\"T\", values=\"dS\", columns=\"V\")"
   ]
  },
  {
   "cell_type": "code",
   "execution_count": 11,
   "id": "b553700b",
   "metadata": {},
   "outputs": [
    {
     "data": {
      "image/png": "[encoded data removed]",
      "text/plain": [
       "<Figure size 250x250 with 1 Axes>"
      ]
     },
     "metadata": {},
     "output_type": "display_data"
    }
   ],
   "source": [
    "fig, ax = plt.subplots(figsize=(2.5, 2.5))\n",
    "\n",
    "pred = dS.drop(3000)\n",
    "\n",
    "norm = plt.Normalize(6.5, 8.5)\n",
    "cmap = lambda x: cm.inferno(norm(x))\n",
    "\n",
    "cols = (pred.columns.values.reshape(1, -1) * np.ones_like(pred.values)).reshape(-1)\n",
    "ax.scatter(\n",
    "    true2.values.reshape(-1),\n",
    "    pred.values.reshape(-1),\n",
    "    c=cmap(cols)\n",
    ")\n",
    "\n",
    "lims = np.array([0.07, 0.11])\n",
    "ax.plot(lims, lims, \"k-\", zorder=-1)\n",
    "\n",
    "ax.set_aspect(\"equal\")\n",
    "\n",
    "ax.set_xlabel(\"True $\\Delta$S (k$_B$/atom)\", fontsize=11)\n",
    "ax.set_ylabel(\"Estimated $\\Delta$S (k$_B$/atom)\", fontsize=11)\n",
    "\n",
    "# savefig(fig, \"02-Cu-dS.pdf\")\n",
    "plt.show()"
   ]
  }
 ],
 "metadata": {
  "kernelspec": {
   "display_name": "Python 3 (ipykernel)",
   "language": "python",
   "name": "python3"
  },
  "language_info": {
   "codemirror_mode": {
    "name": "ipython",
    "version": 3
   },
   "file_extension": ".py",
   "mimetype": "text/x-python",
   "name": "python",
   "nbconvert_exporter": "python",
   "pygments_lexer": "ipython3",
   "version": "3.9.18"
  }
 },
 "nbformat": 4,
 "nbformat_minor": 5
}
