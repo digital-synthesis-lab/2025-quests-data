{
 "cells": [
  {
   "cell_type": "code",
   "execution_count": 1,
   "id": "4ddc4a9a",
   "metadata": {},
   "outputs": [],
   "source": [
    "from quests_data import *\n",
    "\n",
    "import itertools\n",
    "import seaborn as sns\n",
    "from ase.io import read\n",
    "from quests.tools.plotting import savefig, COLORS"
   ]
  },
  {
   "cell_type": "code",
   "execution_count": 2,
   "id": "40f3b086-2faa-498a-bfc0-c2932b015e7f",
   "metadata": {},
   "outputs": [],
   "source": [
    "def clean_filename(name):\n",
    "    return name.split(\"/\")[-1].strip(\".xyz\")\n",
    "\n",
    "def get_int(name):\n",
    "    match = re.findall(\"[0-9]+\", name)[0]\n",
    "    return int(match)"
   ]
  },
  {
   "cell_type": "markdown",
   "id": "12f53c1e",
   "metadata": {},
   "source": [
    "## Analysis of the entropy on a per-generation basis"
   ]
  },
  {
   "cell_type": "code",
   "execution_count": 3,
   "id": "ca883014",
   "metadata": {},
   "outputs": [],
   "source": [
    "DATA = \"../data/02-Aluminum/H\"\n",
    "files = sorted(os.listdir(DATA))\n",
    "\n",
    "H = []\n",
    "for file in files:\n",
    "    with open(os.path.join(DATA, file), \"r\") as f:\n",
    "        data = json.load(f)\n",
    "    H.append(data)    \n",
    "\n",
    "H = pd.DataFrame(H)\n",
    "H[\"gen\"] = H[\"file\"].apply(get_int)"
   ]
  },
  {
   "cell_type": "code",
   "execution_count": 4,
   "id": "cfd28f31",
   "metadata": {},
   "outputs": [
    {
     "data": {
      "image/png": "[encoded data removed]",
      "text/plain": [
       "<Figure size 200x150 with 1 Axes>"
      ]
     },
     "metadata": {},
     "output_type": "display_data"
    }
   ],
   "source": [
    "fig, ax = plt.subplots(figsize=(2, 1.5))\n",
    "\n",
    "ax.plot(H[\"gen\"], H[\"entropy\"], color=COLORS[\"fcc\"])\n",
    "ax.set_ylabel(\"Entropy (nats)\")\n",
    "ax.set_xlabel(\"generation\")\n",
    "\n",
    "# savefig(fig, \"04-info-aluminum.pdf\")\n",
    "plt.show()"
   ]
  },
  {
   "cell_type": "markdown",
   "id": "bf6e8ae5",
   "metadata": {},
   "source": [
    "## Analysis of the novelty and $\\delta$H"
   ]
  },
  {
   "cell_type": "code",
   "execution_count": 5,
   "id": "d354b2a2",
   "metadata": {},
   "outputs": [],
   "source": [
    "DATA = \"../data/02-Aluminum/dH\"\n",
    "files = sorted(os.listdir(DATA))\n",
    "\n",
    "dH = []\n",
    "for file in files:\n",
    "    with open(os.path.join(DATA, file), \"r\") as f:\n",
    "        data = json.load(f)\n",
    "    \n",
    "    data.pop(\"bandwidth\")\n",
    "    data[\"ref\"] = get_int(data.pop(\"reference_file\"))\n",
    "    data[\"test\"] = get_int(data.pop(\"test_file\"))\n",
    "    for delta in data.pop(\"delta_entropy\"):\n",
    "        dH.append({\n",
    "            **data,\n",
    "            \"dH\": delta,\n",
    "        })\n",
    "\n",
    "dH = pd.DataFrame(dH)"
   ]
  },
  {
   "cell_type": "code",
   "execution_count": 6,
   "id": "817b8252",
   "metadata": {},
   "outputs": [],
   "source": [
    "new_envs = np.array([\n",
    "    np.mean(grp[\"dH\"].values >= 0)\n",
    "    for gen, grp in dH.groupby(\"test\")\n",
    "    if gen != 1\n",
    "]) * 100\n",
    "gens = np.arange(2, 44)"
   ]
  },
  {
   "cell_type": "code",
   "execution_count": 7,
   "id": "076be1b8",
   "metadata": {},
   "outputs": [
    {
     "data": {
      "image/png": "[encoded data removed]",
      "text/plain": [
       "<Figure size 200x250 with 2 Axes>"
      ]
     },
     "metadata": {},
     "output_type": "display_data"
    }
   ],
   "source": [
    "fig, axs = plt.subplots(2, 1, figsize=(2, 2.5), sharex=True)\n",
    "\n",
    "ax = axs[0]\n",
    "ax.plot(H[\"gen\"], H[\"entropy\"], color=COLORS[\"fcc\"])\n",
    "ax.set_ylabel(\"Entropy (nats)\")\n",
    "\n",
    "ax = axs[1]\n",
    "ax.plot(gens, new_envs, color=COLORS[\"bcc\"])\n",
    "ax.set_ylabel(\"Frac. New Envs. (%)\")\n",
    "ax.set_xlabel(\"generation\")\n",
    "ax.set_ylim(0)\n",
    "ax.set_xlim(0)\n",
    "\n",
    "# savefig(fig, \"04-info-aluminum.pdf\")\n",
    "plt.show()"
   ]
  },
  {
   "cell_type": "markdown",
   "id": "1be1f754",
   "metadata": {},
   "source": [
    "## Measure of diversity\n",
    "\n",
    "Diversity can be computed by taking the values of $\\delta H (\\mathbf{X}_i | \\{\\mathbf{X}\\}),\\ \\mathbf{X}_i \\in \\{\\mathbf{X}\\}$, which is available in the folder `D` below:"
   ]
  },
  {
   "cell_type": "code",
   "execution_count": 10,
   "id": "85281334",
   "metadata": {},
   "outputs": [],
   "source": [
    "DATA = \"../data/02-Aluminum/D\"\n",
    "files = sorted(os.listdir(DATA))\n",
    "\n",
    "sdH = []\n",
    "for file in files:\n",
    "    with open(os.path.join(DATA, file), \"r\") as f:\n",
    "        data = json.load(f)\n",
    "    \n",
    "    data.pop(\"bandwidth\")\n",
    "    data[\"ref\"] = get_int(data.pop(\"reference_file\"))\n",
    "    data[\"test\"] = get_int(data.pop(\"test_file\"))\n",
    "    for delta in data.pop(\"delta_entropy\"):\n",
    "        sdH.append({\n",
    "            **data,\n",
    "            \"dH\": delta,\n",
    "        })\n",
    "\n",
    "sdH = pd.DataFrame(sdH)"
   ]
  },
  {
   "cell_type": "code",
   "execution_count": 11,
   "id": "a9cdf201",
   "metadata": {},
   "outputs": [],
   "source": [
    "div = []\n",
    "for gen, grp in sdH.groupby(\"ref\"):\n",
    "    D = np.sum(np.exp(grp[\"dH\"].values))\n",
    "    div.append({\n",
    "        \"gen\": gen,\n",
    "        \"D\": D,\n",
    "        \"logD\": np.log(D),\n",
    "        \"n\": len(grp),\n",
    "        \"logn\": np.log(len(grp)),\n",
    "    })\n",
    "    \n",
    "div = pd.DataFrame(div)"
   ]
  },
  {
   "cell_type": "markdown",
   "id": "d931c53b",
   "metadata": {},
   "source": [
    "## Final plot"
   ]
  },
  {
   "cell_type": "code",
   "execution_count": 12,
   "id": "599e838b",
   "metadata": {},
   "outputs": [
    {
     "name": "stderr",
     "output_type": "stream",
     "text": [
      "/var/folders/pk/bysbkx9j3993c_vqdsykcn680000gn/T/ipykernel_84100/1337803784.py:7: UserWarning: set_ticklabels() should only be used with a fixed number of ticks, i.e. after set_ticks() or using a FixedLocator.\n",
      "  ax.set_yticklabels(ax.get_yticklabels(), fontsize=6)\n",
      "/var/folders/pk/bysbkx9j3993c_vqdsykcn680000gn/T/ipykernel_84100/1337803784.py:16: UserWarning: set_ticklabels() should only be used with a fixed number of ticks, i.e. after set_ticks() or using a FixedLocator.\n",
      "  ax.set_yticklabels(ax.get_yticklabels(), fontsize=6)\n",
      "/var/folders/pk/bysbkx9j3993c_vqdsykcn680000gn/T/ipykernel_84100/1337803784.py:24: UserWarning: set_ticklabels() should only be used with a fixed number of ticks, i.e. after set_ticks() or using a FixedLocator.\n",
      "  ax.set_yticklabels(ax.get_yticklabels(), fontsize=6)\n"
     ]
    },
    {
     "data": {
      "image/png": "[encoded data removed]",
      "text/plain": [
       "<Figure size 120x350 with 3 Axes>"
      ]
     },
     "metadata": {},
     "output_type": "display_data"
    }
   ],
   "source": [
    "fig, axs = plt.subplots(3, 1, figsize=(1.2, 3.5), sharex=True)\n",
    "\n",
    "ax = axs[0]\n",
    "ax.plot(H[\"gen\"], H[\"entropy\"], color=COLORS[\"fcc\"])\n",
    "ax.set_ylabel(\"Entropy (nats)\", fontsize=7)\n",
    "ax.set_ylim(9.5, 10.75)\n",
    "ax.set_yticklabels(ax.get_yticklabels(), fontsize=6)\n",
    "\n",
    "ax = axs[1]\n",
    "ax.plot(gens, new_envs, color=COLORS[\"bcc\"])\n",
    "ax.set_ylabel(\"Novelty (%)\", fontsize=7)\n",
    "# ax.set_xlabel(\"generation\")\n",
    "ax.set_ylim(0)\n",
    "ax.set_xlim(0)\n",
    "ax.set_ylim(0, 20)\n",
    "ax.set_yticklabels(ax.get_yticklabels(), fontsize=6)\n",
    "\n",
    "ax = axs[2]\n",
    "ax.plot(div[\"gen\"], div[\"logD\"], color=COLORS[\"hcp\"])\n",
    "ax.set_ylabel(\"Diversity (nats)\", fontsize=7)\n",
    "ax.set_xlabel(\"generation\", fontsize=7)\n",
    "ax.set_ylim(9.5, 12)\n",
    "ax.set_xlim(0)\n",
    "ax.set_yticklabels(ax.get_yticklabels(), fontsize=6)\n",
    "ax.set_xticks([0, 20, 40])\n",
    "ax.set_xticklabels(ax.get_xticklabels(), fontsize=6)\n",
    "\n",
    "# savefig(fig, \"04-dset-aluminum.pdf\")\n",
    "plt.show()"
   ]
  },
  {
   "cell_type": "code",
   "execution_count": 21,
   "id": "7d3f1b83-04ae-4eb8-8d5b-6413ee9c1d5e",
   "metadata": {},
   "outputs": [
    {
     "name": "stderr",
     "output_type": "stream",
     "text": [
      "/var/folders/pk/bysbkx9j3993c_vqdsykcn680000gn/T/ipykernel_3801/2724192875.py:11: UserWarning: set_ticklabels() should only be used with a fixed number of ticks, i.e. after set_ticks() or using a FixedLocator.\n",
      "  ax.set_yticklabels(ax.get_yticklabels(), fontsize=6)\n",
      "/var/folders/pk/bysbkx9j3993c_vqdsykcn680000gn/T/ipykernel_3801/2724192875.py:19: UserWarning: set_ticklabels() should only be used with a fixed number of ticks, i.e. after set_ticks() or using a FixedLocator.\n",
      "  ax.set_yticklabels(ax.get_yticklabels(), fontsize=6)\n",
      "webf NOT subset; don't know how to subset; dropped\n"
     ]
    },
    {
     "data": {
      "image/png": "[encoded data removed]",
      "text/plain": [
       "<Figure size 150x300 with 2 Axes>"
      ]
     },
     "metadata": {},
     "output_type": "display_data"
    }
   ],
   "source": [
    "fig, axs = plt.subplots(2, 1, figsize=(1.5, 3.0), sharex=True)\n",
    "\n",
    "ax = axs[0]\n",
    "ax.plot(H[\"gen\"], H[\"entropy\"], color=COLORS[\"fcc\"], label=\"Entropy\")\n",
    "ax.set_ylabel(\"Information (nats)\", fontsize=7)\n",
    "\n",
    "ax.plot(div[\"gen\"], div[\"logD\"], color=COLORS[\"hcp\"], label=\"Diversity\")\n",
    "\n",
    "# ax.set_ylim(9.5, 12)\n",
    "ax.set_xlim(0)\n",
    "ax.set_yticklabels(ax.get_yticklabels(), fontsize=6)\n",
    "\n",
    "ax = axs[1]\n",
    "ax.plot(gens, new_envs, color=COLORS[\"bcc\"])\n",
    "ax.set_ylabel(\"Novelty (%)\", fontsize=7)\n",
    "ax.set_ylim(0)\n",
    "ax.set_xlim(0)\n",
    "ax.set_ylim(0, 20)\n",
    "ax.set_yticklabels(ax.get_yticklabels(), fontsize=6)\n",
    "ax.set_xticks([0, 20, 40])\n",
    "ax.set_xticklabels(ax.get_xticklabels(), fontsize=6)\n",
    "ax.set_xlabel(\"generation\", fontsize=7)\n",
    "\n",
    "savefig(fig, \"04-dset-aluminum.pdf\")\n",
    "plt.show()"
   ]
  }
 ],
 "metadata": {
  "kernelspec": {
   "display_name": "Python 3 (ipykernel)",
   "language": "python",
   "name": "python3"
  },
  "language_info": {
   "codemirror_mode": {
    "name": "ipython",
    "version": 3
   },
   "file_extension": ".py",
   "mimetype": "text/x-python",
   "name": "python",
   "nbconvert_exporter": "python",
   "pygments_lexer": "ipython3",
   "version": "3.9.18"
  }
 },
 "nbformat": 4,
 "nbformat_minor": 5
}
